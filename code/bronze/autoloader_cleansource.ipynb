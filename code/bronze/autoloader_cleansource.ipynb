{
 "cells": [
  {
   "cell_type": "code",
   "execution_count": 0,
   "metadata": {
    "application/vnd.databricks.v1+cell": {
     "cellMetadata": {
      "byteLimit": 2048000,
      "rowLimit": 10000
     },
     "inputWidgets": {},
     "nuid": "f9cb18d9-b864-49e6-aa10-fd29d28b5468",
     "showTitle": false,
     "tableResultSettingsMap": {},
     "title": ""
    }
   },
   "outputs": [],
   "source": [
    "landing_catalog = \"smart_claims_drv\"\n",
    "landing_schema = \"00_landing\"\n",
    "\n",
    "base_path = f\"/Volumes/{landing_catalog}/{landing_schema}/claims\"\n",
    "source_path = f\"{base_path}/images\"\n",
    "archive_path = f\"{base_path}/archive\"\n",
    "metadata_path = f\"{base_path}/autoloader_metadata\""
   ]
  },
  {
   "cell_type": "code",
   "execution_count": 0,
   "metadata": {
    "application/vnd.databricks.v1+cell": {
     "cellMetadata": {
      "byteLimit": 2048000,
      "rowLimit": 10000
     },
     "inputWidgets": {},
     "nuid": "4f849c0b-d4f8-4f50-9b17-be112d37ecd5",
     "showTitle": false,
     "tableResultSettingsMap": {},
     "title": ""
    }
   },
   "outputs": [],
   "source": [
    "archive_configs = {\n",
    "    \"cloudFiles.cleanSource\": \"MOVE\", # OR DELETE\n",
    "    \"cloudFiles.cleanSource.retentionDuration\": \"1 minute\", # MOVE AFTER 1 MIN - FOR DELETE MIN. 7 DAYS\n",
    "    \"cloudFiles.cleanSource.moveDestination\": archive_path\n",
    "}\n",
    "\n",
    "claim_images_df = (\n",
    "    spark.readStream\n",
    "    .format(\"cloudFiles\")\n",
    "    .option(\"cloudFiles.format\", \"binaryFile\")\n",
    "    .option(\"cloudFiles.schemaLocation\", f\"'{metadata_path}/_schema\")\n",
    "    .options(**archive_configs)\n",
    "    .load(source_path)\n",
    ")\n",
    "\n",
    "(\n",
    "    claim_images_df.writeStream\n",
    "    .option(\"checkpointLocation\", f\"{metadata_path}/_checkpoint\")\n",
    "    .trigger(availableNow=True)\n",
    "    .toTable(\"smart_claims_drv.01_bronze.claim_images\")\n",
    ")"
   ]
  },
  {
   "cell_type": "code",
   "execution_count": 0,
   "metadata": {
    "application/vnd.databricks.v1+cell": {
     "cellMetadata": {},
     "inputWidgets": {},
     "nuid": "2b595464-0708-4b53-a84b-b0459e206279",
     "showTitle": false,
     "tableResultSettingsMap": {},
     "title": ""
    }
   },
   "outputs": [],
   "source": []
  }
 ],
 "metadata": {
  "application/vnd.databricks.v1+notebook": {
   "computePreferences": null,
   "dashboards": [],
   "environmentMetadata": {
    "base_environment": "",
    "environment_version": "3"
   },
   "inputWidgetPreferences": null,
   "language": "python",
   "notebookMetadata": {
    "pythonIndentUnit": 4
   },
   "notebookName": "autoloader_cleansource",
   "widgets": {}
  },
  "language_info": {
   "name": "python"
  }
 },
 "nbformat": 4,
 "nbformat_minor": 0
}
